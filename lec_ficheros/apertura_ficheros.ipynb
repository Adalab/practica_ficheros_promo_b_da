{
 "cells": [
  {
   "cell_type": "code",
   "execution_count": 1,
   "metadata": {},
   "outputs": [],
   "source": [
    "import json\n",
    "\n",
    "# Importar librerías para manipulación y análisis de datos\n",
    "# -----------------------------------------------------------------------\n",
    "import pandas as pd"
   ]
  },
  {
   "cell_type": "markdown",
   "metadata": {},
   "source": [
    "## Apertura json python"
   ]
  },
  {
   "cell_type": "code",
   "execution_count": 3,
   "metadata": {},
   "outputs": [],
   "source": [
    "with open (\"data/personal.json\", \"r\") as fichero:\n",
    "    personal = json.load(fichero)"
   ]
  },
  {
   "cell_type": "code",
   "execution_count": 4,
   "metadata": {},
   "outputs": [
    {
     "data": {
      "text/plain": [
       "{'workers': [{'nombre': 'Ana',\n",
       "   'edad': 34,\n",
       "   'experiencia': 5,\n",
       "   'nivel': 'Senior',\n",
       "   'salario': 50000,\n",
       "   'mascota': 'gatos'},\n",
       "  {'nombre': 'Eva',\n",
       "   'edad': 37,\n",
       "   'experiencia': 2,\n",
       "   'nivel': 'Mid',\n",
       "   'salario': 35000},\n",
       "  {'nombre': 'Marta',\n",
       "   'edad': 27,\n",
       "   'experiencia': 1,\n",
       "   'nivel': 'Junior',\n",
       "   'salario': 25000},\n",
       "  {'nombre': 'Paula',\n",
       "   'edad': 30,\n",
       "   'experiencia': 3,\n",
       "   'nivel': 'Mid',\n",
       "   'salario': 35000}]}"
      ]
     },
     "execution_count": 4,
     "metadata": {},
     "output_type": "execute_result"
    }
   ],
   "source": [
    "personal"
   ]
  },
  {
   "cell_type": "code",
   "execution_count": 5,
   "metadata": {},
   "outputs": [
    {
     "data": {
      "text/plain": [
       "dict"
      ]
     },
     "execution_count": 5,
     "metadata": {},
     "output_type": "execute_result"
    }
   ],
   "source": [
    "type(personal)"
   ]
  },
  {
   "cell_type": "code",
   "execution_count": 6,
   "metadata": {},
   "outputs": [
    {
     "data": {
      "text/plain": [
       "dict_keys(['workers'])"
      ]
     },
     "execution_count": 6,
     "metadata": {},
     "output_type": "execute_result"
    }
   ],
   "source": [
    "personal.keys()"
   ]
  },
  {
   "cell_type": "code",
   "execution_count": 7,
   "metadata": {},
   "outputs": [
    {
     "data": {
      "text/plain": [
       "[{'nombre': 'Ana',\n",
       "  'edad': 34,\n",
       "  'experiencia': 5,\n",
       "  'nivel': 'Senior',\n",
       "  'salario': 50000,\n",
       "  'mascota': 'gatos'},\n",
       " {'nombre': 'Eva',\n",
       "  'edad': 37,\n",
       "  'experiencia': 2,\n",
       "  'nivel': 'Mid',\n",
       "  'salario': 35000},\n",
       " {'nombre': 'Marta',\n",
       "  'edad': 27,\n",
       "  'experiencia': 1,\n",
       "  'nivel': 'Junior',\n",
       "  'salario': 25000},\n",
       " {'nombre': 'Paula',\n",
       "  'edad': 30,\n",
       "  'experiencia': 3,\n",
       "  'nivel': 'Mid',\n",
       "  'salario': 35000}]"
      ]
     },
     "execution_count": 7,
     "metadata": {},
     "output_type": "execute_result"
    }
   ],
   "source": [
    "personal[\"workers\"]"
   ]
  },
  {
   "cell_type": "code",
   "execution_count": 11,
   "metadata": {},
   "outputs": [],
   "source": [
    "personal[\"workers\"][0][\"edad\"] = 35"
   ]
  },
  {
   "cell_type": "code",
   "execution_count": 12,
   "metadata": {},
   "outputs": [
    {
     "data": {
      "text/plain": [
       "{'workers': [{'nombre': 'Ana',\n",
       "   'edad': 35,\n",
       "   'experiencia': 5,\n",
       "   'nivel': 'Senior',\n",
       "   'salario': 50000,\n",
       "   'mascota': 'gatos'},\n",
       "  {'nombre': 'Eva',\n",
       "   'edad': 37,\n",
       "   'experiencia': 2,\n",
       "   'nivel': 'Mid',\n",
       "   'salario': 35000},\n",
       "  {'nombre': 'Marta',\n",
       "   'edad': 27,\n",
       "   'experiencia': 1,\n",
       "   'nivel': 'Junior',\n",
       "   'salario': 25000},\n",
       "  {'nombre': 'Paula',\n",
       "   'edad': 30,\n",
       "   'experiencia': 3,\n",
       "   'nivel': 'Mid',\n",
       "   'salario': 35000}]}"
      ]
     },
     "execution_count": 12,
     "metadata": {},
     "output_type": "execute_result"
    }
   ],
   "source": [
    "personal"
   ]
  },
  {
   "cell_type": "code",
   "execution_count": 15,
   "metadata": {},
   "outputs": [],
   "source": [
    "with open(\"data/personal.json\", \"w\") as fichero:\n",
    "    json.dump(personal, fichero)"
   ]
  },
  {
   "cell_type": "code",
   "execution_count": 17,
   "metadata": {},
   "outputs": [],
   "source": [
    "df = pd.read_json(\"data/one_piece.json\")"
   ]
  },
  {
   "cell_type": "code",
   "execution_count": 18,
   "metadata": {},
   "outputs": [
    {
     "data": {
      "text/html": [
       "<div>\n",
       "<style scoped>\n",
       "    .dataframe tbody tr th:only-of-type {\n",
       "        vertical-align: middle;\n",
       "    }\n",
       "\n",
       "    .dataframe tbody tr th {\n",
       "        vertical-align: top;\n",
       "    }\n",
       "\n",
       "    .dataframe thead th {\n",
       "        text-align: right;\n",
       "    }\n",
       "</style>\n",
       "<table border=\"1\" class=\"dataframe\">\n",
       "  <thead>\n",
       "    <tr style=\"text-align: right;\">\n",
       "      <th></th>\n",
       "      <th>rank</th>\n",
       "      <th>trend</th>\n",
       "      <th>season</th>\n",
       "      <th>episode</th>\n",
       "      <th>name</th>\n",
       "      <th>start</th>\n",
       "      <th>total_votes</th>\n",
       "      <th>average_rating</th>\n",
       "    </tr>\n",
       "  </thead>\n",
       "  <tbody>\n",
       "    <tr>\n",
       "      <th>0</th>\n",
       "      <td>24,129</td>\n",
       "      <td>18</td>\n",
       "      <td>1</td>\n",
       "      <td>1</td>\n",
       "      <td>I'm Luffy! The Man Who Will Become the Pirate ...</td>\n",
       "      <td>1999</td>\n",
       "      <td>647</td>\n",
       "      <td>7.6</td>\n",
       "    </tr>\n",
       "    <tr>\n",
       "      <th>1</th>\n",
       "      <td>29,290</td>\n",
       "      <td>11</td>\n",
       "      <td>1</td>\n",
       "      <td>2</td>\n",
       "      <td>The Great Swordsman Appears! Pirate Hunter, Ro...</td>\n",
       "      <td>1999</td>\n",
       "      <td>473</td>\n",
       "      <td>7.8</td>\n",
       "    </tr>\n",
       "    <tr>\n",
       "      <th>2</th>\n",
       "      <td>32,043</td>\n",
       "      <td>7</td>\n",
       "      <td>1</td>\n",
       "      <td>3</td>\n",
       "      <td>Morgan vs. Luffy! Who's This Beautiful Young G...</td>\n",
       "      <td>1999</td>\n",
       "      <td>428</td>\n",
       "      <td>7.7</td>\n",
       "    </tr>\n",
       "    <tr>\n",
       "      <th>3</th>\n",
       "      <td>28,818</td>\n",
       "      <td>8</td>\n",
       "      <td>1</td>\n",
       "      <td>4</td>\n",
       "      <td>Luffy's Past! The Red-haired Shanks Appears!</td>\n",
       "      <td>1999</td>\n",
       "      <td>449</td>\n",
       "      <td>8.1</td>\n",
       "    </tr>\n",
       "    <tr>\n",
       "      <th>4</th>\n",
       "      <td>37,113</td>\n",
       "      <td>4</td>\n",
       "      <td>1</td>\n",
       "      <td>5</td>\n",
       "      <td>Fear, Mysterious Power! Pirate Clown Captain B...</td>\n",
       "      <td>1999</td>\n",
       "      <td>370</td>\n",
       "      <td>7.5</td>\n",
       "    </tr>\n",
       "  </tbody>\n",
       "</table>\n",
       "</div>"
      ],
      "text/plain": [
       "     rank  trend  season  episode  \\\n",
       "0  24,129     18       1        1   \n",
       "1  29,290     11       1        2   \n",
       "2  32,043      7       1        3   \n",
       "3  28,818      8       1        4   \n",
       "4  37,113      4       1        5   \n",
       "\n",
       "                                                name  start  total_votes  \\\n",
       "0  I'm Luffy! The Man Who Will Become the Pirate ...   1999          647   \n",
       "1  The Great Swordsman Appears! Pirate Hunter, Ro...   1999          473   \n",
       "2  Morgan vs. Luffy! Who's This Beautiful Young G...   1999          428   \n",
       "3       Luffy's Past! The Red-haired Shanks Appears!   1999          449   \n",
       "4  Fear, Mysterious Power! Pirate Clown Captain B...   1999          370   \n",
       "\n",
       "   average_rating  \n",
       "0             7.6  \n",
       "1             7.8  \n",
       "2             7.7  \n",
       "3             8.1  \n",
       "4             7.5  "
      ]
     },
     "execution_count": 18,
     "metadata": {},
     "output_type": "execute_result"
    }
   ],
   "source": [
    "df.head()"
   ]
  },
  {
   "cell_type": "code",
   "execution_count": 19,
   "metadata": {},
   "outputs": [],
   "source": [
    "df.to_csv(\"data/one_piece_2.csv\")"
   ]
  },
  {
   "cell_type": "code",
   "execution_count": 21,
   "metadata": {},
   "outputs": [
    {
     "data": {
      "text/html": [
       "<div>\n",
       "<style scoped>\n",
       "    .dataframe tbody tr th:only-of-type {\n",
       "        vertical-align: middle;\n",
       "    }\n",
       "\n",
       "    .dataframe tbody tr th {\n",
       "        vertical-align: top;\n",
       "    }\n",
       "\n",
       "    .dataframe thead th {\n",
       "        text-align: right;\n",
       "    }\n",
       "</style>\n",
       "<table border=\"1\" class=\"dataframe\">\n",
       "  <thead>\n",
       "    <tr style=\"text-align: right;\">\n",
       "      <th></th>\n",
       "      <th>Date_time</th>\n",
       "      <th>date_documented</th>\n",
       "      <th>Year</th>\n",
       "      <th>Month</th>\n",
       "      <th>Hour</th>\n",
       "      <th>Season</th>\n",
       "      <th>Country_Code</th>\n",
       "      <th>Country</th>\n",
       "      <th>Region</th>\n",
       "      <th>Locale</th>\n",
       "      <th>latitude</th>\n",
       "      <th>longitude</th>\n",
       "      <th>UFO_shape</th>\n",
       "      <th>length_of_encounter_seconds</th>\n",
       "      <th>Encounter_Duration</th>\n",
       "      <th>Description</th>\n",
       "    </tr>\n",
       "  </thead>\n",
       "  <tbody>\n",
       "    <tr>\n",
       "      <th>0</th>\n",
       "      <td>1949-10-10 20:30:00</td>\n",
       "      <td>4/27/2004</td>\n",
       "      <td>1949</td>\n",
       "      <td>10</td>\n",
       "      <td>20</td>\n",
       "      <td>Autumn</td>\n",
       "      <td>USA</td>\n",
       "      <td>United States</td>\n",
       "      <td>Texas</td>\n",
       "      <td>San Marcos</td>\n",
       "      <td>29.883056</td>\n",
       "      <td>-97.941111</td>\n",
       "      <td>Cylinder</td>\n",
       "      <td>2700.0</td>\n",
       "      <td>45 minutes</td>\n",
       "      <td>This event took place in early fall around 194...</td>\n",
       "    </tr>\n",
       "    <tr>\n",
       "      <th>1</th>\n",
       "      <td>1949-10-10 21:00:00</td>\n",
       "      <td>12/16/2005</td>\n",
       "      <td>1949</td>\n",
       "      <td>10</td>\n",
       "      <td>21</td>\n",
       "      <td>Autumn</td>\n",
       "      <td>USA</td>\n",
       "      <td>United States</td>\n",
       "      <td>Texas</td>\n",
       "      <td>Bexar County</td>\n",
       "      <td>29.384210</td>\n",
       "      <td>-98.581082</td>\n",
       "      <td>Light</td>\n",
       "      <td>7200.0</td>\n",
       "      <td>1-2 hrs</td>\n",
       "      <td>1949 Lackland AFB&amp;#44 TX.  Lights racing acros...</td>\n",
       "    </tr>\n",
       "    <tr>\n",
       "      <th>2</th>\n",
       "      <td>1955-10-10 17:00:00</td>\n",
       "      <td>1/21/2008</td>\n",
       "      <td>1955</td>\n",
       "      <td>10</td>\n",
       "      <td>17</td>\n",
       "      <td>Autumn</td>\n",
       "      <td>GBR</td>\n",
       "      <td>United Kingdom</td>\n",
       "      <td>England</td>\n",
       "      <td>Chester</td>\n",
       "      <td>53.200000</td>\n",
       "      <td>-2.916667</td>\n",
       "      <td>Circle</td>\n",
       "      <td>20.0</td>\n",
       "      <td>20 seconds</td>\n",
       "      <td>Green/Orange circular disc over Chester&amp;#44 En...</td>\n",
       "    </tr>\n",
       "    <tr>\n",
       "      <th>3</th>\n",
       "      <td>1956-10-10 21:00:00</td>\n",
       "      <td>1/17/2004</td>\n",
       "      <td>1956</td>\n",
       "      <td>10</td>\n",
       "      <td>21</td>\n",
       "      <td>Autumn</td>\n",
       "      <td>USA</td>\n",
       "      <td>United States</td>\n",
       "      <td>Texas</td>\n",
       "      <td>Edna</td>\n",
       "      <td>28.978333</td>\n",
       "      <td>-96.645833</td>\n",
       "      <td>Circle</td>\n",
       "      <td>20.0</td>\n",
       "      <td>1/2 hour</td>\n",
       "      <td>My older brother and twin sister were leaving ...</td>\n",
       "    </tr>\n",
       "    <tr>\n",
       "      <th>4</th>\n",
       "      <td>1960-10-10 20:00:00</td>\n",
       "      <td>1/22/2004</td>\n",
       "      <td>1960</td>\n",
       "      <td>10</td>\n",
       "      <td>20</td>\n",
       "      <td>Autumn</td>\n",
       "      <td>USA</td>\n",
       "      <td>United States</td>\n",
       "      <td>Hawaii</td>\n",
       "      <td>Kaneohe</td>\n",
       "      <td>21.418056</td>\n",
       "      <td>-157.803611</td>\n",
       "      <td>Light</td>\n",
       "      <td>900.0</td>\n",
       "      <td>15 minutes</td>\n",
       "      <td>AS a Marine 1st Lt. flying an FJ4B fighter/att...</td>\n",
       "    </tr>\n",
       "  </tbody>\n",
       "</table>\n",
       "</div>"
      ],
      "text/plain": [
       "             Date_time date_documented  Year  Month  Hour  Season  \\\n",
       "0  1949-10-10 20:30:00       4/27/2004  1949     10    20  Autumn   \n",
       "1  1949-10-10 21:00:00      12/16/2005  1949     10    21  Autumn   \n",
       "2  1955-10-10 17:00:00       1/21/2008  1955     10    17  Autumn   \n",
       "3  1956-10-10 21:00:00       1/17/2004  1956     10    21  Autumn   \n",
       "4  1960-10-10 20:00:00       1/22/2004  1960     10    20  Autumn   \n",
       "\n",
       "  Country_Code         Country   Region        Locale   latitude   longitude  \\\n",
       "0          USA   United States    Texas    San Marcos  29.883056  -97.941111   \n",
       "1          USA   United States    Texas  Bexar County  29.384210  -98.581082   \n",
       "2          GBR  United Kingdom  England       Chester  53.200000   -2.916667   \n",
       "3          USA   United States    Texas          Edna  28.978333  -96.645833   \n",
       "4          USA   United States   Hawaii       Kaneohe  21.418056 -157.803611   \n",
       "\n",
       "  UFO_shape  length_of_encounter_seconds Encounter_Duration  \\\n",
       "0  Cylinder                       2700.0         45 minutes   \n",
       "1     Light                       7200.0            1-2 hrs   \n",
       "2    Circle                         20.0         20 seconds   \n",
       "3    Circle                         20.0           1/2 hour   \n",
       "4     Light                        900.0         15 minutes   \n",
       "\n",
       "                                         Description  \n",
       "0  This event took place in early fall around 194...  \n",
       "1  1949 Lackland AFB&#44 TX.  Lights racing acros...  \n",
       "2  Green/Orange circular disc over Chester&#44 En...  \n",
       "3  My older brother and twin sister were leaving ...  \n",
       "4  AS a Marine 1st Lt. flying an FJ4B fighter/att...  "
      ]
     },
     "execution_count": 21,
     "metadata": {},
     "output_type": "execute_result"
    }
   ],
   "source": [
    "df_ufo = pd.read_csv(\"data/ufo.csv\", index_col=0)\n",
    "df_ufo.head()"
   ]
  },
  {
   "cell_type": "code",
   "execution_count": 24,
   "metadata": {},
   "outputs": [
    {
     "data": {
      "text/html": [
       "<div>\n",
       "<style scoped>\n",
       "    .dataframe tbody tr th:only-of-type {\n",
       "        vertical-align: middle;\n",
       "    }\n",
       "\n",
       "    .dataframe tbody tr th {\n",
       "        vertical-align: top;\n",
       "    }\n",
       "\n",
       "    .dataframe thead th {\n",
       "        text-align: right;\n",
       "    }\n",
       "</style>\n",
       "<table border=\"1\" class=\"dataframe\">\n",
       "  <thead>\n",
       "    <tr style=\"text-align: right;\">\n",
       "      <th></th>\n",
       "      <th>Unnamed: 0</th>\n",
       "      <th>Date_time</th>\n",
       "      <th>date_documented</th>\n",
       "      <th>Year</th>\n",
       "      <th>Month</th>\n",
       "      <th>Hour</th>\n",
       "      <th>Season</th>\n",
       "      <th>Country_Code</th>\n",
       "      <th>Country</th>\n",
       "      <th>Region</th>\n",
       "      <th>Locale</th>\n",
       "      <th>latitude</th>\n",
       "      <th>longitude</th>\n",
       "      <th>UFO_shape</th>\n",
       "      <th>length_of_encounter_seconds</th>\n",
       "      <th>Encounter_Duration</th>\n",
       "      <th>Description</th>\n",
       "    </tr>\n",
       "  </thead>\n",
       "  <tbody>\n",
       "    <tr>\n",
       "      <th>0</th>\n",
       "      <td>0</td>\n",
       "      <td>1949-10-10 20:30:00</td>\n",
       "      <td>4/27/2004</td>\n",
       "      <td>1949</td>\n",
       "      <td>10</td>\n",
       "      <td>20</td>\n",
       "      <td>Autumn</td>\n",
       "      <td>USA</td>\n",
       "      <td>United States</td>\n",
       "      <td>Texas</td>\n",
       "      <td>San Marcos</td>\n",
       "      <td>29.883056</td>\n",
       "      <td>-97.941111</td>\n",
       "      <td>Cylinder</td>\n",
       "      <td>2700.0</td>\n",
       "      <td>45 minutes</td>\n",
       "      <td>This event took place in early fall around 194...</td>\n",
       "    </tr>\n",
       "    <tr>\n",
       "      <th>1</th>\n",
       "      <td>1</td>\n",
       "      <td>1949-10-10 21:00:00</td>\n",
       "      <td>12/16/2005</td>\n",
       "      <td>1949</td>\n",
       "      <td>10</td>\n",
       "      <td>21</td>\n",
       "      <td>Autumn</td>\n",
       "      <td>USA</td>\n",
       "      <td>United States</td>\n",
       "      <td>Texas</td>\n",
       "      <td>Bexar County</td>\n",
       "      <td>29.384210</td>\n",
       "      <td>-98.581082</td>\n",
       "      <td>Light</td>\n",
       "      <td>7200.0</td>\n",
       "      <td>1-2 hrs</td>\n",
       "      <td>1949 Lackland AFB&amp;#44 TX.  Lights racing acros...</td>\n",
       "    </tr>\n",
       "    <tr>\n",
       "      <th>2</th>\n",
       "      <td>2</td>\n",
       "      <td>1955-10-10 17:00:00</td>\n",
       "      <td>1/21/2008</td>\n",
       "      <td>1955</td>\n",
       "      <td>10</td>\n",
       "      <td>17</td>\n",
       "      <td>Autumn</td>\n",
       "      <td>GBR</td>\n",
       "      <td>United Kingdom</td>\n",
       "      <td>England</td>\n",
       "      <td>Chester</td>\n",
       "      <td>53.200000</td>\n",
       "      <td>-2.916667</td>\n",
       "      <td>Circle</td>\n",
       "      <td>20.0</td>\n",
       "      <td>20 seconds</td>\n",
       "      <td>Green/Orange circular disc over Chester&amp;#44 En...</td>\n",
       "    </tr>\n",
       "    <tr>\n",
       "      <th>3</th>\n",
       "      <td>3</td>\n",
       "      <td>1956-10-10 21:00:00</td>\n",
       "      <td>1/17/2004</td>\n",
       "      <td>1956</td>\n",
       "      <td>10</td>\n",
       "      <td>21</td>\n",
       "      <td>Autumn</td>\n",
       "      <td>USA</td>\n",
       "      <td>United States</td>\n",
       "      <td>Texas</td>\n",
       "      <td>Edna</td>\n",
       "      <td>28.978333</td>\n",
       "      <td>-96.645833</td>\n",
       "      <td>Circle</td>\n",
       "      <td>20.0</td>\n",
       "      <td>1/2 hour</td>\n",
       "      <td>My older brother and twin sister were leaving ...</td>\n",
       "    </tr>\n",
       "    <tr>\n",
       "      <th>4</th>\n",
       "      <td>4</td>\n",
       "      <td>1960-10-10 20:00:00</td>\n",
       "      <td>1/22/2004</td>\n",
       "      <td>1960</td>\n",
       "      <td>10</td>\n",
       "      <td>20</td>\n",
       "      <td>Autumn</td>\n",
       "      <td>USA</td>\n",
       "      <td>United States</td>\n",
       "      <td>Hawaii</td>\n",
       "      <td>Kaneohe</td>\n",
       "      <td>21.418056</td>\n",
       "      <td>-157.803611</td>\n",
       "      <td>Light</td>\n",
       "      <td>900.0</td>\n",
       "      <td>15 minutes</td>\n",
       "      <td>AS a Marine 1st Lt. flying an FJ4B fighter/att...</td>\n",
       "    </tr>\n",
       "  </tbody>\n",
       "</table>\n",
       "</div>"
      ],
      "text/plain": [
       "   Unnamed: 0            Date_time date_documented  Year  Month  Hour  Season  \\\n",
       "0           0  1949-10-10 20:30:00       4/27/2004  1949     10    20  Autumn   \n",
       "1           1  1949-10-10 21:00:00      12/16/2005  1949     10    21  Autumn   \n",
       "2           2  1955-10-10 17:00:00       1/21/2008  1955     10    17  Autumn   \n",
       "3           3  1956-10-10 21:00:00       1/17/2004  1956     10    21  Autumn   \n",
       "4           4  1960-10-10 20:00:00       1/22/2004  1960     10    20  Autumn   \n",
       "\n",
       "  Country_Code         Country   Region        Locale   latitude   longitude  \\\n",
       "0          USA   United States    Texas    San Marcos  29.883056  -97.941111   \n",
       "1          USA   United States    Texas  Bexar County  29.384210  -98.581082   \n",
       "2          GBR  United Kingdom  England       Chester  53.200000   -2.916667   \n",
       "3          USA   United States    Texas          Edna  28.978333  -96.645833   \n",
       "4          USA   United States   Hawaii       Kaneohe  21.418056 -157.803611   \n",
       "\n",
       "  UFO_shape  length_of_encounter_seconds Encounter_Duration  \\\n",
       "0  Cylinder                       2700.0         45 minutes   \n",
       "1     Light                       7200.0            1-2 hrs   \n",
       "2    Circle                         20.0         20 seconds   \n",
       "3    Circle                         20.0           1/2 hour   \n",
       "4     Light                        900.0         15 minutes   \n",
       "\n",
       "                                         Description  \n",
       "0  This event took place in early fall around 194...  \n",
       "1  1949 Lackland AFB&#44 TX.  Lights racing acros...  \n",
       "2  Green/Orange circular disc over Chester&#44 En...  \n",
       "3  My older brother and twin sister were leaving ...  \n",
       "4  AS a Marine 1st Lt. flying an FJ4B fighter/att...  "
      ]
     },
     "execution_count": 24,
     "metadata": {},
     "output_type": "execute_result"
    }
   ],
   "source": [
    "df_ufo_2 = pd.read_excel(\"data/ufo.xlsx\")\n",
    "df_ufo_2.head()"
   ]
  },
  {
   "cell_type": "code",
   "execution_count": 25,
   "metadata": {},
   "outputs": [
    {
     "data": {
      "text/plain": [
       "(80328, 17)"
      ]
     },
     "execution_count": 25,
     "metadata": {},
     "output_type": "execute_result"
    }
   ],
   "source": [
    "df_ufo_2.shape"
   ]
  },
  {
   "cell_type": "code",
   "execution_count": 26,
   "metadata": {},
   "outputs": [],
   "source": [
    "df_ufo_2.to_csv(\"data/ufo_2.csv\")"
   ]
  },
  {
   "cell_type": "code",
   "execution_count": null,
   "metadata": {},
   "outputs": [],
   "source": []
  }
 ],
 "metadata": {
  "kernelspec": {
   "display_name": "base",
   "language": "python",
   "name": "python3"
  },
  "language_info": {
   "codemirror_mode": {
    "name": "ipython",
    "version": 3
   },
   "file_extension": ".py",
   "mimetype": "text/x-python",
   "name": "python",
   "nbconvert_exporter": "python",
   "pygments_lexer": "ipython3",
   "version": "3.9.12"
  }
 },
 "nbformat": 4,
 "nbformat_minor": 2
}
